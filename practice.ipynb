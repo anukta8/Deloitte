{
 "cells": [
  {
   "cell_type": "code",
   "execution_count": 1,
   "metadata": {},
   "outputs": [],
   "source": [
    "# 1. to display sum and average of two numbers. The average should be displayed as a  whole number "
   ]
  },
  {
   "cell_type": "code",
   "execution_count": 4,
   "metadata": {},
   "outputs": [
    {
     "name": "stdout",
     "output_type": "stream",
     "text": [
      "the sum is:  42.5\n",
      "the avg is:  21\n"
     ]
    }
   ],
   "source": [
    "x=22.5\n",
    "y=20\n",
    "sum=x+y\n",
    "avg=sum/2\n",
    "print(\"the sum is: \",sum)\n",
    "print(\"the avg is: \", int(avg))"
   ]
  },
  {
   "cell_type": "code",
   "execution_count": 5,
   "metadata": {},
   "outputs": [],
   "source": [
    "#2. program that prints out all the elements of the list (list of numbers) that are less than 5"
   ]
  },
  {
   "cell_type": "code",
   "execution_count": 67,
   "metadata": {},
   "outputs": [
    {
     "name": "stdout",
     "output_type": "stream",
     "text": [
      "1\n",
      "3\n"
     ]
    }
   ],
   "source": [
    "lista = [20,11,5,6,1,3,45]\n",
    "for val in lista:\n",
    "    if(val<5):\n",
    "        print(val)\n",
    "#else:\n",
    " #   print(\"no value less than 5 in list\")"
   ]
  },
  {
   "cell_type": "code",
   "execution_count": 11,
   "metadata": {},
   "outputs": [],
   "source": [
    "#3. 3.\tGiven a number check if it is even or odd, if it’s divisible by ten then display a different message. "
   ]
  },
  {
   "cell_type": "code",
   "execution_count": 26,
   "metadata": {},
   "outputs": [
    {
     "name": "stdout",
     "output_type": "stream",
     "text": [
      "odd\n",
      "----\n"
     ]
    }
   ],
   "source": [
    "var = 41\n",
    "\n",
    "if var%2 == 0:\n",
    "    print(\"even\")\n",
    "    if var%10 ==0:\n",
    "        print(\"divisible by 10\")\n",
    "else:\n",
    "    print(\"odd\")\n",
    "    print(\"----\")\n"
   ]
  },
  {
   "cell_type": "code",
   "execution_count": 27,
   "metadata": {},
   "outputs": [],
   "source": [
    "#4. program to calculate & display product of two integers. If the product is greater than 500 then display their sum"
   ]
  },
  {
   "cell_type": "code",
   "execution_count": 29,
   "metadata": {},
   "outputs": [
    {
     "name": "stdout",
     "output_type": "stream",
     "text": [
      "Sum is:  121\n"
     ]
    }
   ],
   "source": [
    "varx=21\n",
    "vary=100\n",
    "prod = varx * vary\n",
    "if prod > 500:\n",
    "    sum=varx+vary\n",
    "    print(\"Sum is: \",sum)\n",
    "else:\n",
    "    print(\"Product is: \", prod)"
   ]
  },
  {
   "cell_type": "code",
   "execution_count": 30,
   "metadata": {},
   "outputs": [],
   "source": [
    "#5. 5.\tGiven a starting number as 4 and ending number as 20, iterate over the range of numbers and print the sum of current number and previous number. "
   ]
  },
  {
   "cell_type": "code",
   "execution_count": 31,
   "metadata": {},
   "outputs": [
    {
     "name": "stdout",
     "output_type": "stream",
     "text": [
      "7\n",
      "9\n",
      "11\n",
      "13\n",
      "15\n",
      "17\n",
      "19\n",
      "21\n",
      "23\n",
      "25\n",
      "27\n",
      "29\n",
      "31\n",
      "33\n",
      "35\n",
      "37\n"
     ]
    }
   ],
   "source": [
    "for i in range(4,20,1):\n",
    "    sum=i+(i-1)\n",
    "    print(sum)\n",
    "        "
   ]
  },
  {
   "cell_type": "code",
   "execution_count": 32,
   "metadata": {},
   "outputs": [],
   "source": [
    "#6. program to test whether a passed letter is a vowel or not."
   ]
  },
  {
   "cell_type": "code",
   "execution_count": 46,
   "metadata": {},
   "outputs": [
    {
     "name": "stdout",
     "output_type": "stream",
     "text": [
      "z  not a vowel\n"
     ]
    }
   ],
   "source": [
    "vow= 'z'\n",
    "if (vow=='a' or vow == 'e' or vow == 'i' or vow == 'o' or vow == 'u'):\n",
    "    print(vow,\" is a vowel\")\n",
    "else:\n",
    "    print(vow,\" not a vowel\")"
   ]
  },
  {
   "cell_type": "code",
   "execution_count": 47,
   "metadata": {},
   "outputs": [],
   "source": [
    "#7. 7.\tGiven a string, display only those characters which are present at the even index.\n"
   ]
  },
  {
   "cell_type": "code",
   "execution_count": 52,
   "metadata": {},
   "outputs": [
    {
     "name": "stdout",
     "output_type": "stream",
     "text": [
      "H\n",
      "l\n",
      "o\n",
      "w\n",
      "r\n",
      "d\n",
      "!\n"
     ]
    }
   ],
   "source": [
    "stra = \"Hello world!!\"\n",
    "for i in range(0,len(stra),2):\n",
    "    print(stra[i])"
   ]
  },
  {
   "cell_type": "code",
   "execution_count": 54,
   "metadata": {},
   "outputs": [],
   "source": [
    "#8. same as 3"
   ]
  },
  {
   "cell_type": "code",
   "execution_count": null,
   "metadata": {},
   "outputs": [],
   "source": []
  },
  {
   "cell_type": "code",
   "execution_count": 55,
   "metadata": {},
   "outputs": [],
   "source": [
    "#9. 9.\tGiven a list of numbers, iterate it and print only those numbers which are divisible of 10"
   ]
  },
  {
   "cell_type": "code",
   "execution_count": 59,
   "metadata": {},
   "outputs": [
    {
     "name": "stdout",
     "output_type": "stream",
     "text": [
      "10\n",
      "200\n",
      "40\n",
      "80\n"
     ]
    }
   ],
   "source": [
    "listnum = [1,4,5,10,200,40,45,80,88]\n",
    "for val in listnum:\n",
    "    if(val%10==0):\n",
    "        print(val)"
   ]
  },
  {
   "cell_type": "code",
   "execution_count": 60,
   "metadata": {},
   "outputs": [],
   "source": [
    "#10. 10.\tGiven a list of integers, find if the first & last elements of the list are same. "
   ]
  },
  {
   "cell_type": "code",
   "execution_count": 62,
   "metadata": {},
   "outputs": [
    {
     "name": "stdout",
     "output_type": "stream",
     "text": [
      "1st nd last value is not same\n"
     ]
    }
   ],
   "source": [
    "listran = [1,5,11,45,25,2,10]\n",
    "if listran[0]==listran[-1]:\n",
    "    print(\"1st nd last value is same\")\n",
    "else:\n",
    "    print(\"1st nd last value is not same\")"
   ]
  },
  {
   "cell_type": "code",
   "execution_count": 68,
   "metadata": {},
   "outputs": [],
   "source": [
    "#11. 11.\tReplace all spaces in a string with an underscore. "
   ]
  },
  {
   "cell_type": "code",
   "execution_count": 112,
   "metadata": {},
   "outputs": [
    {
     "name": "stdout",
     "output_type": "stream",
     "text": [
      "Hello_world_is_the_first_ever_program_you_should_run!\n"
     ]
    }
   ],
   "source": [
    "strun = \"Hello world is the first ever program you should run!\"\n",
    "#strun.replace()\n",
    "strrep = strun.replace(\" \",\"_\")\n",
    "print(strrep)\n",
    "        \n"
   ]
  },
  {
   "cell_type": "code",
   "execution_count": 108,
   "metadata": {},
   "outputs": [],
   "source": [
    "\n",
    "        "
   ]
  },
  {
   "cell_type": "code",
   "execution_count": 90,
   "metadata": {},
   "outputs": [
    {
     "data": {
      "text/plain": [
       "list"
      ]
     },
     "execution_count": 90,
     "metadata": {},
     "output_type": "execute_result"
    }
   ],
   "source": []
  },
  {
   "cell_type": "code",
   "execution_count": 106,
   "metadata": {},
   "outputs": [
    {
     "ename": "SyntaxError",
     "evalue": "invalid syntax (<ipython-input-106-436dad5240f1>, line 3)",
     "output_type": "error",
     "traceback": [
      "\u001b[1;36m  File \u001b[1;32m\"<ipython-input-106-436dad5240f1>\"\u001b[1;36m, line \u001b[1;32m3\u001b[0m\n\u001b[1;33m    val.\u001b[0m\n\u001b[1;37m        ^\u001b[0m\n\u001b[1;31mSyntaxError\u001b[0m\u001b[1;31m:\u001b[0m invalid syntax\n"
     ]
    }
   ],
   "source": []
  },
  {
   "cell_type": "code",
   "execution_count": 98,
   "metadata": {},
   "outputs": [],
   "source": [
    "straa = \"welcome hello\""
   ]
  },
  {
   "cell_type": "code",
   "execution_count": 99,
   "metadata": {},
   "outputs": [
    {
     "data": {
      "text/plain": [
       "['w', 'e', 'l', 'c', 'o', 'm', 'e', ' ', 'h', 'e', 'l', 'l', 'o']"
      ]
     },
     "execution_count": 99,
     "metadata": {},
     "output_type": "execute_result"
    }
   ],
   "source": [
    "list(straa)"
   ]
  },
  {
   "cell_type": "code",
   "execution_count": 100,
   "metadata": {},
   "outputs": [
    {
     "data": {
      "text/plain": [
       "str"
      ]
     },
     "execution_count": 100,
     "metadata": {},
     "output_type": "execute_result"
    }
   ],
   "source": [
    "type(straa)"
   ]
  },
  {
   "cell_type": "code",
   "execution_count": 101,
   "metadata": {},
   "outputs": [],
   "source": [
    "strab = list(straa)"
   ]
  },
  {
   "cell_type": "code",
   "execution_count": 103,
   "metadata": {},
   "outputs": [
    {
     "data": {
      "text/plain": [
       "list"
      ]
     },
     "execution_count": 103,
     "metadata": {},
     "output_type": "execute_result"
    }
   ],
   "source": [
    "type(strab)"
   ]
  },
  {
   "cell_type": "code",
   "execution_count": 104,
   "metadata": {},
   "outputs": [],
   "source": [
    "strac = str(strab)"
   ]
  },
  {
   "cell_type": "code",
   "execution_count": 111,
   "metadata": {},
   "outputs": [
    {
     "name": "stdout",
     "output_type": "stream",
     "text": [
      "one_one_was_a_race_horse,_two_two_was_one_too.\n"
     ]
    }
   ],
   "source": [
    "txt = \"one one was a race horse, two two was one too.\"\n",
    "\n",
    "x = txt.replace(\" \", \"_\")\n",
    "\n",
    "print(x)"
   ]
  },
  {
   "cell_type": "code",
   "execution_count": 107,
   "metadata": {},
   "outputs": [],
   "source": [
    "#12. 12.\tWrite a code to check if the given string is palindrome or not"
   ]
  },
  {
   "cell_type": "code",
   "execution_count": 117,
   "metadata": {},
   "outputs": [
    {
     "name": "stdout",
     "output_type": "stream",
     "text": [
      "palindrome\n"
     ]
    }
   ],
   "source": [
    "strpal = \"madam\"\n",
    "strrev= strpal[::-1]\n",
    "\n",
    "if strpal==strrev:\n",
    "    print(\"palindrome\")\n",
    "else:\n",
    "    print(\"not palindrome\")"
   ]
  },
  {
   "cell_type": "code",
   "execution_count": 120,
   "metadata": {},
   "outputs": [],
   "source": [
    "#13. 13.\tWrite a code to generate Fibonacci series till nth  number"
   ]
  },
  {
   "cell_type": "code",
   "execution_count": 121,
   "metadata": {},
   "outputs": [
    {
     "name": "stdout",
     "output_type": "stream",
     "text": [
      "0 + 1 = 1\n",
      "1 + 2 = 3\n",
      "2 + 3 = 5\n",
      "3 + 4 = 7\n",
      "4 + 5 = 9\n",
      "5 + 6 = 11\n",
      "6 + 7 = 13\n",
      "7 + 8 = 15\n",
      "8 + 9 = 17\n",
      "9 + 10 = 19\n"
     ]
    }
   ],
   "source": [
    "n=10\n",
    "for i in range(0,n,1):\n",
    "    fib=i+(i+1)\n",
    "    print(i,\"+\",(i+1),\"=\",fib)"
   ]
  },
  {
   "cell_type": "code",
   "execution_count": 122,
   "metadata": {},
   "outputs": [],
   "source": [
    "#14 \tGiven 2 strings, stra and strb, create a new string by appending strb in the middle of stra"
   ]
  },
  {
   "cell_type": "code",
   "execution_count": 150,
   "metadata": {},
   "outputs": [
    {
     "name": "stdout",
     "output_type": "stream",
     "text": [
      "Welhomecome\n"
     ]
    }
   ],
   "source": [
    "straaa=\"Welcome\"\n",
    "strbbb=\"home\"\n",
    "l=len(straaa)\n",
    "strccc=straaa[0:(int(l/2))] + strbbb + straaa[(int(l/2)):]\n",
    "print(strccc)"
   ]
  },
  {
   "cell_type": "code",
   "execution_count": 152,
   "metadata": {},
   "outputs": [],
   "source": [
    "#15. 15.\tWrite a code to print the following pattern using a loop:\n",
    "#1 \n",
    "#1\t2\n",
    "#1\t2\t3\n",
    "#1\t2\t3\t4\n",
    "#1\t2\t3\t4\t5\n"
   ]
  },
  {
   "cell_type": "code",
   "execution_count": 198,
   "metadata": {},
   "outputs": [
    {
     "name": "stdout",
     "output_type": "stream",
     "text": [
      "1 \r\n",
      "1 \r\n",
      "2 \r\n",
      "1 \r\n",
      "2 \r\n",
      "3 \r\n",
      "1 \r\n",
      "2 \r\n",
      "3 \r\n",
      "4 \r\n",
      "1 \r\n",
      "2 \r\n",
      "3 \r\n",
      "4 \r\n",
      "5 \r\n"
     ]
    }
   ],
   "source": [
    "for i in range(1,6,1):\n",
    "    for j in range(1,i+1,1):\n",
    "            print(j,\"\\r\")\n",
    "           \n",
    "          "
   ]
  },
  {
   "cell_type": "code",
   "execution_count": 199,
   "metadata": {},
   "outputs": [],
   "source": [
    "#16. 16.\tGiven a huge string, display only the first 25% (aprox) of character. \n",
    "#For example, if string is “greater good”, then the output should be “gre”.\n"
   ]
  },
  {
   "cell_type": "code",
   "execution_count": 205,
   "metadata": {},
   "outputs": [
    {
     "name": "stdout",
     "output_type": "stream",
     "text": [
      "gre\n"
     ]
    }
   ],
   "source": [
    "strch = \"greater good\"\n",
    "lench = int(0.25*(len(strch)))\n",
    "strchr = strch[:lench]\n",
    "print(strchr)"
   ]
  },
  {
   "cell_type": "code",
   "execution_count": 206,
   "metadata": {},
   "outputs": [],
   "source": [
    "#17. 17.\tGiven a list of numbers, if the size of list is odd, then display the center most number. If the size of list is even then display average of the two numbers ate the center.  "
   ]
  },
  {
   "cell_type": "code",
   "execution_count": 218,
   "metadata": {},
   "outputs": [
    {
     "name": "stdout",
     "output_type": "stream",
     "text": [
      "4 5\n"
     ]
    }
   ],
   "source": [
    "listnumber = [1,2,3,4,5,6,7,8]\n",
    "lenlist = len(listnumber)\n",
    "lenhalf = int(lenlist/2)\n",
    "if lenlist%2!=0:\n",
    "    print(listnumber[lenhalf])\n",
    "else:\n",
    "    print(listnumber[lenhalf-1],listnumber[lenhalf])\n",
    "\n",
    "  listnumber.  "
   ]
  },
  {
   "cell_type": "code",
   "execution_count": 219,
   "metadata": {},
   "outputs": [],
   "source": [
    "#18. 18.\tTake two lists and write a program that returns a list that contains only the elements that are common between the two lists (without duplicates). "
   ]
  },
  {
   "cell_type": "code",
   "execution_count": 224,
   "metadata": {},
   "outputs": [
    {
     "name": "stdout",
     "output_type": "stream",
     "text": [
      "['a', 'n', 'u']\n"
     ]
    }
   ],
   "source": [
    "listm = ['a','n','u','k','t','a']\n",
    "listn = ['a','n','u']\n",
    "\n",
    "listmn = listm and listn\n",
    "print(listmn)"
   ]
  },
  {
   "cell_type": "code",
   "execution_count": 225,
   "metadata": {},
   "outputs": [],
   "source": [
    "#19. 19.\tWrite a code to check if a given year is leap year or not. "
   ]
  },
  {
   "cell_type": "code",
   "execution_count": 230,
   "metadata": {},
   "outputs": [
    {
     "name": "stdout",
     "output_type": "stream",
     "text": [
      "not leap\n"
     ]
    }
   ],
   "source": [
    "yr =2002\n",
    "if yr%4==0 or yr%400==0:\n",
    "    print(\"leap\")\n",
    "else:\n",
    "    print(\"not leap\")"
   ]
  },
  {
   "cell_type": "code",
   "execution_count": 231,
   "metadata": {},
   "outputs": [],
   "source": [
    "#20. 20.\tWrite a code to check if the given number is prime or not."
   ]
  },
  {
   "cell_type": "code",
   "execution_count": 237,
   "metadata": {},
   "outputs": [
    {
     "name": "stdout",
     "output_type": "stream",
     "text": [
      "prime\n"
     ]
    }
   ],
   "source": [
    "num = 7\n",
    "count=0\n",
    "for i in range(2,num+1,1):\n",
    "    if num%i == 0:\n",
    "        count=count+1\n",
    "if count==1:\n",
    "    print(\"prime\")\n",
    "else:\n",
    "    print(\"not prime\")\n",
    "    "
   ]
  },
  {
   "cell_type": "code",
   "execution_count": 238,
   "metadata": {},
   "outputs": [],
   "source": [
    "#21. 21.\tWrite a code to extract all values from a multi-level nested dictionary. It should work for any level and should display only values and not keys.  "
   ]
  },
  {
   "cell_type": "code",
   "execution_count": null,
   "metadata": {},
   "outputs": [],
   "source": []
  },
  {
   "cell_type": "code",
   "execution_count": null,
   "metadata": {},
   "outputs": [],
   "source": []
  },
  {
   "cell_type": "code",
   "execution_count": 252,
   "metadata": {},
   "outputs": [],
   "source": [
    "#22.\tIterate over a list and count the occurrence of each element. Create a dictionary to show the count of each element"
   ]
  },
  {
   "cell_type": "code",
   "execution_count": 250,
   "metadata": {},
   "outputs": [],
   "source": [
    "listn = [10,20,30,40,10,50,60,20,40]\n",
    "dicta={}\n",
    "for val in listn:\n",
    "    x=listn.count(val)\n",
    "    dicta[val]=x\n",
    "\n"
   ]
  },
  {
   "cell_type": "code",
   "execution_count": 251,
   "metadata": {},
   "outputs": [
    {
     "name": "stdout",
     "output_type": "stream",
     "text": [
      "{10: 2, 20: 2, 30: 1, 40: 2, 50: 1, 60: 1}\n"
     ]
    }
   ],
   "source": [
    "print(dicta)"
   ]
  },
  {
   "cell_type": "code",
   "execution_count": null,
   "metadata": {},
   "outputs": [],
   "source": []
  }
 ],
 "metadata": {
  "kernelspec": {
   "display_name": "Python 3",
   "language": "python",
   "name": "python3"
  },
  "language_info": {
   "codemirror_mode": {
    "name": "ipython",
    "version": 3
   },
   "file_extension": ".py",
   "mimetype": "text/x-python",
   "name": "python",
   "nbconvert_exporter": "python",
   "pygments_lexer": "ipython3",
   "version": "3.7.4"
  }
 },
 "nbformat": 4,
 "nbformat_minor": 2
}

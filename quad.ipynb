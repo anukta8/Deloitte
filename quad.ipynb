{
 "cells": [
  {
   "cell_type": "code",
   "execution_count": 45,
   "metadata": {},
   "outputs": [
    {
     "name": "stdout",
     "output_type": "stream",
     "text": [
      "['2x2', '4x', '10=0']\n",
      "2\n",
      "4\n",
      "10=0\n",
      "['2x2', '4x', '10=0']\n",
      "2\n",
      "4\n",
      "10=0\n"
     ]
    }
   ],
   "source": [
    "#Enter the equation\n",
    "\n",
    "import math\n",
    "\n",
    "quad=\"2x2+4x+10=0\"\n",
    "a=\n",
    "roots=0\n",
    "\n",
    "for i in quad:                      \n",
    "    if i=='+':\n",
    "        x=quad.split(i)\n",
    "        print(x)\n",
    "        \n",
    "        #extrcating value of a,b,c in an equation\n",
    "        \n",
    "        a=x[0][0]\n",
    "        print(a)\n",
    "        b=x[1][0]\n",
    "        print(b)\n",
    "        c=x[2]\n",
    "        print(c)\n",
    "    \n",
    "    \n",
    "        \n",
    "                                                                                                                                                                                                                                                                                                                                                                                          \n"
   ]
  },
  {
   "cell_type": "code",
   "execution_count": 88,
   "metadata": {},
   "outputs": [
    {
     "name": "stdout",
     "output_type": "stream",
     "text": [
      "2\n",
      "4\n",
      "1\n"
     ]
    },
    {
     "ename": "TypeError",
     "evalue": "bad operand type for unary -: 'str'",
     "output_type": "error",
     "traceback": [
      "\u001b[1;31m---------------------------------------------------------------------------\u001b[0m",
      "\u001b[1;31mTypeError\u001b[0m                                 Traceback (most recent call last)",
      "\u001b[1;32m<ipython-input-88-73e59ecebbd3>\u001b[0m in \u001b[0;36m<module>\u001b[1;34m\u001b[0m\n\u001b[0;32m     34\u001b[0m \u001b[1;32mif\u001b[0m\u001b[1;33m(\u001b[0m\u001b[0mvar4\u001b[0m\u001b[1;33m<\u001b[0m\u001b[1;36m0\u001b[0m\u001b[1;33m)\u001b[0m\u001b[1;33m:\u001b[0m\u001b[0mprint\u001b[0m\u001b[1;33m(\u001b[0m\u001b[1;34m\"complex roots\"\u001b[0m\u001b[1;33m)\u001b[0m\u001b[1;33m\u001b[0m\u001b[1;33m\u001b[0m\u001b[0m\n\u001b[0;32m     35\u001b[0m \u001b[1;32melse\u001b[0m\u001b[1;33m:\u001b[0m\u001b[1;33m\u001b[0m\u001b[1;33m\u001b[0m\u001b[0m\n\u001b[1;32m---> 36\u001b[1;33m     \u001b[0mroot1\u001b[0m \u001b[1;33m=\u001b[0m \u001b[1;33m(\u001b[0m\u001b[1;33m-\u001b[0m\u001b[0mb\u001b[0m\u001b[1;33m+\u001b[0m\u001b[0mmath\u001b[0m\u001b[1;33m.\u001b[0m\u001b[0msqrt\u001b[0m\u001b[1;33m(\u001b[0m\u001b[0md\u001b[0m\u001b[1;33m)\u001b[0m\u001b[1;33m)\u001b[0m\u001b[1;33m/\u001b[0m\u001b[1;33m(\u001b[0m\u001b[1;36m2\u001b[0m\u001b[1;33m*\u001b[0m\u001b[0ma\u001b[0m\u001b[1;33m)\u001b[0m\u001b[1;33m\u001b[0m\u001b[1;33m\u001b[0m\u001b[0m\n\u001b[0m\u001b[0;32m     37\u001b[0m     \u001b[0mroot2\u001b[0m\u001b[1;33m=\u001b[0m\u001b[1;33m(\u001b[0m\u001b[1;33m-\u001b[0m\u001b[0mb\u001b[0m\u001b[1;33m-\u001b[0m\u001b[0mmath\u001b[0m\u001b[1;33m.\u001b[0m\u001b[0msqrt\u001b[0m\u001b[1;33m(\u001b[0m\u001b[0md\u001b[0m\u001b[1;33m)\u001b[0m\u001b[1;33m)\u001b[0m\u001b[1;33m/\u001b[0m\u001b[1;33m(\u001b[0m\u001b[1;36m2\u001b[0m\u001b[1;33m*\u001b[0m\u001b[0ma\u001b[0m\u001b[1;33m)\u001b[0m\u001b[1;33m\u001b[0m\u001b[1;33m\u001b[0m\u001b[0m\n\u001b[0;32m     38\u001b[0m     \u001b[0mprint\u001b[0m\u001b[1;33m(\u001b[0m\u001b[0mroot1\u001b[0m\u001b[1;33m)\u001b[0m\u001b[1;33m\u001b[0m\u001b[1;33m\u001b[0m\u001b[0m\n",
      "\u001b[1;31mTypeError\u001b[0m: bad operand type for unary -: 'str'"
     ]
    }
   ],
   "source": [
    "import math\n",
    "\n",
    "#Given a quadratic equation\n",
    "streq=\"2x2+4x+1=0\"\n",
    "\n",
    "#storing the a,b,c from eqn ax2+bx+c=0\n",
    "\n",
    "var1=int(streq[0])\n",
    "\n",
    "print(var1)\n",
    "\n",
    "for v1 in streq[1:]:\n",
    "    if(v1=='+'):\n",
    "        i1=streq.index(v1)\n",
    "    break\n",
    "#print(i1)\n",
    "\n",
    "#next variable is after three positions \n",
    "\n",
    "i2=i1+3\n",
    "#print(i2)\n",
    "\n",
    "var2=int(streq[i1+4])\n",
    "print(var2)\n",
    "\n",
    "i3=i2+4\n",
    "var3=int(streq[i3])\n",
    "#print(i3)\n",
    "print(var3)\n",
    "\n",
    "#equation for roots\n",
    "var4=var2**2-4*var1*var3\n",
    "\n",
    "if(var4<0):\n",
    "    print(\"complex roots\")\n",
    "else:\n",
    "    root1 = (-b+math.sqrt(d))/(2*a)\n",
    "    root2=(-b-math.sqrt(d))/(2*a)\n",
    "    print(root1)\n",
    "    print(root2)\n"
   ]
  },
  {
   "cell_type": "code",
   "execution_count": null,
   "metadata": {},
   "outputs": [],
   "source": []
  },
  {
   "cell_type": "code",
   "execution_count": null,
   "metadata": {},
   "outputs": [],
   "source": []
  }
 ],
 "metadata": {
  "kernelspec": {
   "display_name": "Python 3",
   "language": "python",
   "name": "python3"
  },
  "language_info": {
   "codemirror_mode": {
    "name": "ipython",
    "version": 3
   },
   "file_extension": ".py",
   "mimetype": "text/x-python",
   "name": "python",
   "nbconvert_exporter": "python",
   "pygments_lexer": "ipython3",
   "version": "3.7.4"
  }
 },
 "nbformat": 4,
 "nbformat_minor": 2
}
